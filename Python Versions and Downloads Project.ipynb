{
 "cells": [
  {
   "cell_type": "markdown",
   "id": "fe0db447",
   "metadata": {},
   "source": [
    "## Webscraping Python Versions \n",
    "\n"
   ]
  },
  {
   "cell_type": "code",
   "execution_count": 1,
   "id": "ab400fa5",
   "metadata": {},
   "outputs": [],
   "source": [
    "# Import the required libraries\n",
    "\n",
    "import requests, bs4, pandas as pd"
   ]
  },
  {
   "cell_type": "code",
   "execution_count": 2,
   "id": "51620c01",
   "metadata": {},
   "outputs": [],
   "source": [
    "# The URL to be scraped is parsed into a string object. The request module queries the website via a get method which\n",
    "# then returns a response object.\n",
    "\n",
    "url = \"https://www.python.org/downloads/\" \n",
    "response = requests.get(url)\n"
   ]
  },
  {
   "cell_type": "code",
   "execution_count": 3,
   "id": "af3c8804",
   "metadata": {
    "scrolled": true
   },
   "outputs": [
    {
     "data": {
      "text/plain": [
       "<bound method Response.raise_for_status of <Response [200]>>"
      ]
     },
     "execution_count": 3,
     "metadata": {},
     "output_type": "execute_result"
    }
   ],
   "source": [
    "# Verify the status of the response by calling the raise_for_status method on the response object\n",
    "\n",
    "response.raise_for_status"
   ]
  },
  {
   "cell_type": "code",
   "execution_count": 4,
   "id": "7085754c",
   "metadata": {},
   "outputs": [],
   "source": [
    "# The response is parsed to string with the text method\n",
    "\n",
    "data = response.text\n",
    "# data"
   ]
  },
  {
   "cell_type": "code",
   "execution_count": 5,
   "id": "c0004262",
   "metadata": {},
   "outputs": [],
   "source": [
    "# Parsing the text data into a BeautifulSoup object with \"html.parser\". This will help BeautifulSoup to recognise\n",
    "# all the tags and attributes of the html document and treat them like so, accordingly\n",
    "\n",
    "soup = bs4.BeautifulSoup(data, \"html.parser\")\n",
    "# soup"
   ]
  },
  {
   "cell_type": "code",
   "execution_count": 6,
   "id": "c323868b",
   "metadata": {},
   "outputs": [
    {
     "data": {
      "text/plain": [
       "[<title>Download Python | Python.org</title>]"
      ]
     },
     "execution_count": 6,
     "metadata": {},
     "output_type": "execute_result"
    }
   ],
   "source": [
    "# Testing the parsed tree of the soup object by calling the titie tags (This can be omitted)\n",
    "\n",
    "soup.find_all('title')"
   ]
  },
  {
   "cell_type": "code",
   "execution_count": 7,
   "id": "1dad8642",
   "metadata": {},
   "outputs": [],
   "source": [
    "# The released dates are texts inside the span tags which has release-date as one of the attributes of the class. \n",
    "# This property is used to collect all the strings in the span tags.\n",
    "# The count object is only used to count the number of loops in the process. It can be omitted\n",
    "\n",
    "count = -1\n",
    "release_dates_list = []\n",
    "tags = soup.find_all('span', {\"class\": \"release-date\"})\n",
    "for tag in tags:\n",
    "    release_dates_list.append(tag.text)\n",
    "    \n",
    "    count += 1\n",
    "release_dates = release_dates_list[1:]   \n",
    "# print(count)\n",
    "# print(release_dates)    "
   ]
  },
  {
   "cell_type": "code",
   "execution_count": 8,
   "id": "25c4bfb9",
   "metadata": {},
   "outputs": [],
   "source": [
    "count = 0\n",
    "head_link = \"https://www.python.org\"\n",
    "versions_list = []\n",
    "release_downloads_list = []\n",
    "\n",
    "spans = soup.find_all('span', {\"class\": \"release-number\"})\n",
    "for tag in spans:\n",
    "    x= tag.find_all('a')\n",
    "    for release_link in x:\n",
    "        y = head_link  + release_link.get('href')\n",
    "        versions_list.append(release_link.text)\n",
    "        release_downloads_list.append(y)\n",
    "\n",
    "        count += 1\n",
    "# print(count)\n",
    "# print( versions_list, release_downloads_list)\n"
   ]
  },
  {
   "cell_type": "code",
   "execution_count": 9,
   "id": "05acf6eb",
   "metadata": {
    "scrolled": true
   },
   "outputs": [],
   "source": [
    "count = 0\n",
    "release_notes_list = []\n",
    "\n",
    "spans = soup.find_all('span', {\"class\": \"release-enhancements\"})\n",
    "for tag in spans:\n",
    "    x = tag.find_all('a')\n",
    "    for release_link in x:\n",
    "        release_notes_list.append(release_link.get('href'))\n",
    "\n",
    "        count += 1\n",
    "# print(count)\n",
    "# print(release_notes_list)"
   ]
  },
  {
   "cell_type": "code",
   "execution_count": 10,
   "id": "f34e33dd",
   "metadata": {},
   "outputs": [],
   "source": [
    "python_dict = {\"Python Version\": versions_list, \n",
    "               \"Release Date\": release_dates,\n",
    "               \"Release Download Link\": release_downloads_list,\n",
    "               \"Release Notes Link\": release_notes_list,\n",
    "              }"
   ]
  },
  {
   "cell_type": "code",
   "execution_count": 11,
   "id": "f267970f",
   "metadata": {},
   "outputs": [
    {
     "name": "stdout",
     "output_type": "stream",
     "text": [
      "    Python Version    Release Date  \\\n",
      "0    Python 3.10.5    June 6, 2022   \n",
      "1    Python 3.9.13    May 17, 2022   \n",
      "2    Python 3.10.4  March 24, 2022   \n",
      "3    Python 3.9.12  March 23, 2022   \n",
      "4    Python 3.10.3  March 16, 2022   \n",
      "..             ...             ...   \n",
      "160   Python 2.2.2   Oct. 14, 2002   \n",
      "161   Python 2.2.1  April 10, 2002   \n",
      "162   Python 2.1.3   April 9, 2002   \n",
      "163   Python 2.2.0   Dec. 21, 2001   \n",
      "164   Python 2.0.1   June 22, 2001   \n",
      "\n",
      "                                 Release Download Link  \\\n",
      "0    https://www.python.org/downloads/release/pytho...   \n",
      "1    https://www.python.org/downloads/release/pytho...   \n",
      "2    https://www.python.org/downloads/release/pytho...   \n",
      "3    https://www.python.org/downloads/release/pytho...   \n",
      "4    https://www.python.org/downloads/release/pytho...   \n",
      "..                                                 ...   \n",
      "160  https://www.python.org/downloads/release/pytho...   \n",
      "161  https://www.python.org/downloads/release/pytho...   \n",
      "162  https://www.python.org/downloads/release/pytho...   \n",
      "163  https://www.python.org/downloads/release/pytho...   \n",
      "164  https://www.python.org/downloads/release/pytho...   \n",
      "\n",
      "                                    Release Notes Link  \n",
      "0    https://docs.python.org/release/3.10.5/whatsne...  \n",
      "1    https://docs.python.org/release/3.9.13/whatsne...  \n",
      "2    https://docs.python.org/release/3.10.4/whatsne...  \n",
      "3    https://docs.python.org/release/3.9.12/whatsne...  \n",
      "4    https://docs.python.org/release/3.10.3/whatsne...  \n",
      "..                                                 ...  \n",
      "160  http://hg.python.org/cpython/raw-file/v2.2.2/M...  \n",
      "161  http://hg.python.org/cpython/raw-file/v2.2.1/M...  \n",
      "162  http://hg.python.org/cpython/raw-file/v2.1.3/M...  \n",
      "163  http://hg.python.org/cpython/raw-file/v2.2/Mis...  \n",
      "164  http://hg.python.org/cpython/raw-file/v2.0.1/M...  \n",
      "\n",
      "[165 rows x 4 columns]\n"
     ]
    }
   ],
   "source": [
    "df = pd.DataFrame(python_dict)\n",
    "\n",
    "# print(df)"
   ]
  },
  {
   "cell_type": "code",
   "execution_count": 13,
   "id": "735a1eef",
   "metadata": {},
   "outputs": [],
   "source": [
    "df.to_csv(\"Python_Versions1.csv\")"
   ]
  },
  {
   "cell_type": "code",
   "execution_count": null,
   "id": "d54331e3",
   "metadata": {},
   "outputs": [],
   "source": []
  }
 ],
 "metadata": {
  "kernelspec": {
   "display_name": "Python 3 (ipykernel)",
   "language": "python",
   "name": "python3"
  },
  "language_info": {
   "codemirror_mode": {
    "name": "ipython",
    "version": 3
   },
   "file_extension": ".py",
   "mimetype": "text/x-python",
   "name": "python",
   "nbconvert_exporter": "python",
   "pygments_lexer": "ipython3",
   "version": "3.9.7"
  }
 },
 "nbformat": 4,
 "nbformat_minor": 5
}
