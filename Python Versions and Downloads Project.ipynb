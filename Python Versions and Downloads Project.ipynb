{
 "cells": [
  {
   "cell_type": "markdown",
   "id": "c9caf9ce",
   "metadata": {},
   "source": [
    "## Webscraping Python Versions \n",
    "\n"
   ]
  },
  {
   "cell_type": "code",
   "execution_count": 1,
   "id": "743ba1f7",
   "metadata": {},
   "outputs": [],
   "source": [
    "# Import the required libraries\n",
    "\n",
    "import requests, bs4, pandas as pd"
   ]
  },
  {
   "cell_type": "code",
   "execution_count": 2,
   "id": "eb9d94a0",
   "metadata": {},
   "outputs": [],
   "source": [
    "# The URL to be scraped is parsed into a string object. The request module queries the website via a get method which\n",
    "# then returns a response object.\n",
    "\n",
    "url = \"https://www.python.org/downloads/\" \n",
    "response = requests.get(url)\n"
   ]
  },
  {
   "cell_type": "code",
   "execution_count": 3,
   "id": "fb7ec030",
   "metadata": {
    "scrolled": true
   },
   "outputs": [
    {
     "data": {
      "text/plain": [
       "<bound method Response.raise_for_status of <Response [200]>>"
      ]
     },
     "execution_count": 3,
     "metadata": {},
     "output_type": "execute_result"
    }
   ],
   "source": [
    "# Verify the status of the response by calling the raise_for_status method on the response object\n",
    "\n",
    "response.raise_for_status"
   ]
  },
  {
   "cell_type": "code",
   "execution_count": 4,
   "id": "123823df",
   "metadata": {},
   "outputs": [],
   "source": [
    "# The response is parsed to string with the text method\n",
    "\n",
    "data = response.text\n",
    "# data"
   ]
  },
  {
   "cell_type": "code",
   "execution_count": 5,
   "id": "871ffa5f",
   "metadata": {},
   "outputs": [],
   "source": [
    "# Parsing the text data into a BeautifulSoup object with \"html.parser\". This will help BeautifulSoup to recognise\n",
    "# all the tags and attributes of the html document and treat them like so, accordingly\n",
    "\n",
    "soup = bs4.BeautifulSoup(data, \"html.parser\")\n",
    "# soup"
   ]
  },
  {
   "cell_type": "code",
   "execution_count": 6,
   "id": "c94ce629",
   "metadata": {},
   "outputs": [
    {
     "data": {
      "text/plain": [
       "[<title>Download Python | Python.org</title>]"
      ]
     },
     "execution_count": 6,
     "metadata": {},
     "output_type": "execute_result"
    }
   ],
   "source": [
    "# Testing the parsed tree of the soup object by calling the titie tags (This can be omitted)\n",
    "\n",
    "soup.find_all('title')"
   ]
  },
  {
   "cell_type": "code",
   "execution_count": 7,
   "id": "5bb655b2",
   "metadata": {},
   "outputs": [],
   "source": [
    "# The released dates are texts inside the span tags which has release-date as one of the attributes of the class. \n",
    "# This property is used to collect all the strings in the span tags.\n",
    "# The count object is only used to count the number of loops in the process. It can be omitted\n",
    "\n",
    "count = -1\n",
    "release_dates_list = []\n",
    "tags = soup.find_all('span', {\"class\": \"release-date\"})\n",
    "for tag in tags:\n",
    "    release_dates_list.append(tag.text)\n",
    "    \n",
    "    count += 1\n",
    "release_dates = release_dates_list[1:]   \n",
    "# print(count)\n",
    "# print(release_dates)    "
   ]
  },
  {
   "cell_type": "code",
   "execution_count": 8,
   "id": "c1a73e47",
   "metadata": {},
   "outputs": [],
   "source": [
    "count = 0\n",
    "head_link = \"https://www.python.org\"\n",
    "versions_list = []\n",
    "release_downloads_list = []\n",
    "\n",
    "spans = soup.find_all('span', {\"class\": \"release-number\"})\n",
    "for tag in spans:\n",
    "    x= tag.find_all('a')\n",
    "    for release_link in x:\n",
    "        y = head_link  + release_link.get('href')\n",
    "        versions_list.append(release_link.text)\n",
    "        release_downloads_list.append(y)\n",
    "\n",
    "        count += 1\n",
    "# print(count)\n",
    "# print( versions_list, release_downloads_list)\n"
   ]
  },
  {
   "cell_type": "code",
   "execution_count": 9,
   "id": "144fbca3",
   "metadata": {
    "scrolled": true
   },
   "outputs": [],
   "source": [
    "count = 0\n",
    "release_notes_list = []\n",
    "\n",
    "spans = soup.find_all('span', {\"class\": \"release-enhancements\"})\n",
    "for tag in spans:\n",
    "    x = tag.find_all('a')\n",
    "    for release_link in x:\n",
    "        release_notes_list.append(release_link.get('href'))\n",
    "\n",
    "        count += 1\n",
    "# print(count)\n",
    "# print(release_notes_list)"
   ]
  },
  {
   "cell_type": "code",
   "execution_count": 10,
   "id": "1cf56ac7",
   "metadata": {},
   "outputs": [],
   "source": [
    "python_dict = {\"Python Version\": versions_list, \n",
    "               \"Release Date\": release_dates,\n",
    "               \"Release Download Link\": release_downloads_list,\n",
    "               \"Release Notes Link\": release_notes_list,\n",
    "              }"
   ]
  },
  {
   "cell_type": "code",
   "execution_count": 11,
   "id": "552cde12",
   "metadata": {},
   "outputs": [
    {
     "name": "stdout",
     "output_type": "stream",
     "text": [
      "    Python Version    Release Date  \\\n",
      "0    Python 3.10.5    June 6, 2022   \n",
      "1    Python 3.9.13    May 17, 2022   \n",
      "2    Python 3.10.4  March 24, 2022   \n",
      "3    Python 3.9.12  March 23, 2022   \n",
      "4    Python 3.10.3  March 16, 2022   \n",
      "..             ...             ...   \n",
      "160   Python 2.2.2   Oct. 14, 2002   \n",
      "161   Python 2.2.1  April 10, 2002   \n",
      "162   Python 2.1.3   April 9, 2002   \n",
      "163   Python 2.2.0   Dec. 21, 2001   \n",
      "164   Python 2.0.1   June 22, 2001   \n",
      "\n",
      "                                 Release Download Link  \\\n",
      "0    https://www.python.org/downloads/release/pytho...   \n",
      "1    https://www.python.org/downloads/release/pytho...   \n",
      "2    https://www.python.org/downloads/release/pytho...   \n",
      "3    https://www.python.org/downloads/release/pytho...   \n",
      "4    https://www.python.org/downloads/release/pytho...   \n",
      "..                                                 ...   \n",
      "160  https://www.python.org/downloads/release/pytho...   \n",
      "161  https://www.python.org/downloads/release/pytho...   \n",
      "162  https://www.python.org/downloads/release/pytho...   \n",
      "163  https://www.python.org/downloads/release/pytho...   \n",
      "164  https://www.python.org/downloads/release/pytho...   \n",
      "\n",
      "                                    Release Notes Link  \n",
      "0    https://docs.python.org/release/3.10.5/whatsne...  \n",
      "1    https://docs.python.org/release/3.9.13/whatsne...  \n",
      "2    https://docs.python.org/release/3.10.4/whatsne...  \n",
      "3    https://docs.python.org/release/3.9.12/whatsne...  \n",
      "4    https://docs.python.org/release/3.10.3/whatsne...  \n",
      "..                                                 ...  \n",
      "160  http://hg.python.org/cpython/raw-file/v2.2.2/M...  \n",
      "161  http://hg.python.org/cpython/raw-file/v2.2.1/M...  \n",
      "162  http://hg.python.org/cpython/raw-file/v2.1.3/M...  \n",
      "163  http://hg.python.org/cpython/raw-file/v2.2/Mis...  \n",
      "164  http://hg.python.org/cpython/raw-file/v2.0.1/M...  \n",
      "\n",
      "[165 rows x 4 columns]\n"
     ]
    }
   ],
   "source": [
    "df = pd.DataFrame(python_dict)\n",
    "\n",
    "# print(df)"
   ]
  },
  {
   "cell_type": "code",
   "execution_count": 12,
   "id": "479a3c05",
   "metadata": {
    "collapsed": true
   },
   "outputs": [
    {
     "ename": "PermissionError",
     "evalue": "[Errno 13] Permission denied: 'Python_Versions.csv'",
     "output_type": "error",
     "traceback": [
      "\u001b[1;31m---------------------------------------------------------------------------\u001b[0m",
      "\u001b[1;31mPermissionError\u001b[0m                           Traceback (most recent call last)",
      "\u001b[1;32mC:\\Users\\JAJACO~1\\AppData\\Local\\Temp/ipykernel_840/4080786794.py\u001b[0m in \u001b[0;36m<module>\u001b[1;34m\u001b[0m\n\u001b[1;32m----> 1\u001b[1;33m \u001b[0mdf\u001b[0m\u001b[1;33m.\u001b[0m\u001b[0mto_csv\u001b[0m\u001b[1;33m(\u001b[0m\u001b[1;34m\"Python_Versions.csv\"\u001b[0m\u001b[1;33m)\u001b[0m\u001b[1;33m\u001b[0m\u001b[1;33m\u001b[0m\u001b[0m\n\u001b[0m",
      "\u001b[1;32m~\\anaconda3\\lib\\site-packages\\pandas\\core\\generic.py\u001b[0m in \u001b[0;36mto_csv\u001b[1;34m(self, path_or_buf, sep, na_rep, float_format, columns, header, index, index_label, mode, encoding, compression, quoting, quotechar, line_terminator, chunksize, date_format, doublequote, escapechar, decimal, errors, storage_options)\u001b[0m\n\u001b[0;32m   3464\u001b[0m         )\n\u001b[0;32m   3465\u001b[0m \u001b[1;33m\u001b[0m\u001b[0m\n\u001b[1;32m-> 3466\u001b[1;33m         return DataFrameRenderer(formatter).to_csv(\n\u001b[0m\u001b[0;32m   3467\u001b[0m             \u001b[0mpath_or_buf\u001b[0m\u001b[1;33m,\u001b[0m\u001b[1;33m\u001b[0m\u001b[1;33m\u001b[0m\u001b[0m\n\u001b[0;32m   3468\u001b[0m             \u001b[0mline_terminator\u001b[0m\u001b[1;33m=\u001b[0m\u001b[0mline_terminator\u001b[0m\u001b[1;33m,\u001b[0m\u001b[1;33m\u001b[0m\u001b[1;33m\u001b[0m\u001b[0m\n",
      "\u001b[1;32m~\\anaconda3\\lib\\site-packages\\pandas\\io\\formats\\format.py\u001b[0m in \u001b[0;36mto_csv\u001b[1;34m(self, path_or_buf, encoding, sep, columns, index_label, mode, compression, quoting, quotechar, line_terminator, chunksize, date_format, doublequote, escapechar, errors, storage_options)\u001b[0m\n\u001b[0;32m   1103\u001b[0m             \u001b[0mformatter\u001b[0m\u001b[1;33m=\u001b[0m\u001b[0mself\u001b[0m\u001b[1;33m.\u001b[0m\u001b[0mfmt\u001b[0m\u001b[1;33m,\u001b[0m\u001b[1;33m\u001b[0m\u001b[1;33m\u001b[0m\u001b[0m\n\u001b[0;32m   1104\u001b[0m         )\n\u001b[1;32m-> 1105\u001b[1;33m         \u001b[0mcsv_formatter\u001b[0m\u001b[1;33m.\u001b[0m\u001b[0msave\u001b[0m\u001b[1;33m(\u001b[0m\u001b[1;33m)\u001b[0m\u001b[1;33m\u001b[0m\u001b[1;33m\u001b[0m\u001b[0m\n\u001b[0m\u001b[0;32m   1106\u001b[0m \u001b[1;33m\u001b[0m\u001b[0m\n\u001b[0;32m   1107\u001b[0m         \u001b[1;32mif\u001b[0m \u001b[0mcreated_buffer\u001b[0m\u001b[1;33m:\u001b[0m\u001b[1;33m\u001b[0m\u001b[1;33m\u001b[0m\u001b[0m\n",
      "\u001b[1;32m~\\anaconda3\\lib\\site-packages\\pandas\\io\\formats\\csvs.py\u001b[0m in \u001b[0;36msave\u001b[1;34m(self)\u001b[0m\n\u001b[0;32m    235\u001b[0m         \"\"\"\n\u001b[0;32m    236\u001b[0m         \u001b[1;31m# apply compression and byte/text conversion\u001b[0m\u001b[1;33m\u001b[0m\u001b[1;33m\u001b[0m\u001b[0m\n\u001b[1;32m--> 237\u001b[1;33m         with get_handle(\n\u001b[0m\u001b[0;32m    238\u001b[0m             \u001b[0mself\u001b[0m\u001b[1;33m.\u001b[0m\u001b[0mfilepath_or_buffer\u001b[0m\u001b[1;33m,\u001b[0m\u001b[1;33m\u001b[0m\u001b[1;33m\u001b[0m\u001b[0m\n\u001b[0;32m    239\u001b[0m             \u001b[0mself\u001b[0m\u001b[1;33m.\u001b[0m\u001b[0mmode\u001b[0m\u001b[1;33m,\u001b[0m\u001b[1;33m\u001b[0m\u001b[1;33m\u001b[0m\u001b[0m\n",
      "\u001b[1;32m~\\anaconda3\\lib\\site-packages\\pandas\\io\\common.py\u001b[0m in \u001b[0;36mget_handle\u001b[1;34m(path_or_buf, mode, encoding, compression, memory_map, is_text, errors, storage_options)\u001b[0m\n\u001b[0;32m    700\u001b[0m         \u001b[1;32mif\u001b[0m \u001b[0mioargs\u001b[0m\u001b[1;33m.\u001b[0m\u001b[0mencoding\u001b[0m \u001b[1;32mand\u001b[0m \u001b[1;34m\"b\"\u001b[0m \u001b[1;32mnot\u001b[0m \u001b[1;32min\u001b[0m \u001b[0mioargs\u001b[0m\u001b[1;33m.\u001b[0m\u001b[0mmode\u001b[0m\u001b[1;33m:\u001b[0m\u001b[1;33m\u001b[0m\u001b[1;33m\u001b[0m\u001b[0m\n\u001b[0;32m    701\u001b[0m             \u001b[1;31m# Encoding\u001b[0m\u001b[1;33m\u001b[0m\u001b[1;33m\u001b[0m\u001b[0m\n\u001b[1;32m--> 702\u001b[1;33m             handle = open(\n\u001b[0m\u001b[0;32m    703\u001b[0m                 \u001b[0mhandle\u001b[0m\u001b[1;33m,\u001b[0m\u001b[1;33m\u001b[0m\u001b[1;33m\u001b[0m\u001b[0m\n\u001b[0;32m    704\u001b[0m                 \u001b[0mioargs\u001b[0m\u001b[1;33m.\u001b[0m\u001b[0mmode\u001b[0m\u001b[1;33m,\u001b[0m\u001b[1;33m\u001b[0m\u001b[1;33m\u001b[0m\u001b[0m\n",
      "\u001b[1;31mPermissionError\u001b[0m: [Errno 13] Permission denied: 'Python_Versions.csv'"
     ]
    }
   ],
   "source": [
    "df.to_csv(\"Python_Versions.csv\")"
   ]
  }
 ],
 "metadata": {
  "kernelspec": {
   "display_name": "Python 3 (ipykernel)",
   "language": "python",
   "name": "python3"
  },
  "language_info": {
   "codemirror_mode": {
    "name": "ipython",
    "version": 3
   },
   "file_extension": ".py",
   "mimetype": "text/x-python",
   "name": "python",
   "nbconvert_exporter": "python",
   "pygments_lexer": "ipython3",
   "version": "3.9.7"
  }
 },
 "nbformat": 4,
 "nbformat_minor": 5
}
